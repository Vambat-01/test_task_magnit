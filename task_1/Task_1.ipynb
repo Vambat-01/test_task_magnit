{
  "nbformat": 4,
  "nbformat_minor": 0,
  "metadata": {
    "colab": {
      "name": "Task_1.ipynb",
      "provenance": []
    },
    "kernelspec": {
      "name": "python3",
      "display_name": "Python 3"
    },
    "language_info": {
      "name": "python"
    }
  },
  "cells": [
    {
      "cell_type": "markdown",
      "metadata": {
        "id": "p4xA84FYDxeE"
      },
      "source": [
        "Задание 1. Датафреймы.\n",
        "Цель: Получить необходимые данные из датасета.\n",
        "Источник данных: https://pastebin.com/b3QGeJ8f\n",
        "Описание: Требуется скачать по ссылке предложенный датасет, загрузить его в датафрейм, подготовить и получить следующие данные:\n",
        "1) Список стран с максимальной и минимальной плотностью населения и их плотность\n",
        "2) Число стран без береговой линии (coastline) и процент таких стран от общего числа стран\n",
        "3) Регион, где меньше всего людей владеют телефонами (phones_per_1000 - количество людей, владеющих телефонами, на 1000 человек)\n",
        "4) Список стран, у которых отсутствует показатель грамотности (literacy), и при этом численность населения страны (population) более 1млн человек\n",
        "5) Топ 5 стран с самым низким показателем рождаемости (birthrate) по отношению к показателю смертности (deathrate)\n",
        "6) Страны, в которых преобладает сельское хозяйство (agriculture) над промышленностью (industry) и сферой обслуживания (service) и при этом средний показатель миграции (net migration) по региону положительный\n",
        "Результат выполнения: Jupyter Notebook с отображением результата каждого из пунктов\n",
        "Основные библиотеки:\n",
        "    • pandas – для работы с данными"
      ]
    },
    {
      "cell_type": "markdown",
      "metadata": {
        "id": "1MJVrzzxaUw3"
      },
      "source": [
        "Импортируем библиотеки"
      ]
    },
    {
      "cell_type": "code",
      "metadata": {
        "id": "Iq7U1jzJcEqn"
      },
      "source": [
        "import pandas as pd\n",
        "import requests"
      ],
      "execution_count": 1,
      "outputs": []
    },
    {
      "cell_type": "markdown",
      "metadata": {
        "id": "N0S2DEJQacry"
      },
      "source": [
        "Скачиваем данные"
      ]
    },
    {
      "cell_type": "code",
      "metadata": {
        "id": "LqX2wjeTcWPM"
      },
      "source": [
        "def download(url: str, fname: str):\n",
        "  r = requests.get(url, allow_redirects=True)\n",
        "  with open(fname, 'wb') as f:\n",
        "    f.write(r.content)\n",
        "\n",
        "download('https://raw.githubusercontent.com/Vambat-01/test_task_magnit/main/resources/world_countries.txt', 'data.csv')"
      ],
      "execution_count": 2,
      "outputs": []
    },
    {
      "cell_type": "markdown",
      "metadata": {
        "id": "JSbdJ5dngsQw"
      },
      "source": [
        "Считываем данные в DataFrame"
      ]
    },
    {
      "cell_type": "code",
      "metadata": {
        "id": "dHPg73wHgrk3"
      },
      "source": [
        "data = pd.read_csv('data.csv', sep=',', decimal=\",\")"
      ],
      "execution_count": 3,
      "outputs": []
    },
    {
      "cell_type": "markdown",
      "metadata": {
        "id": "rgCHwKJ5jGKI"
      },
      "source": [
        "1) Список стран с максимальной и минимальной плотностью населения и их плотность"
      ]
    },
    {
      "cell_type": "code",
      "metadata": {
        "colab": {
          "base_uri": "https://localhost:8080/"
        },
        "id": "ja6qMuhqjLj0",
        "outputId": "4f7d37f8-f633-4a5b-a13a-33c0542c5c74"
      },
      "source": [
        "population_density = pd.DataFrame(\n",
        "    {\n",
        "        \"country\": data[\"country\"],\n",
        "        \"density\": data[\"population\"] / data[\"area\"]\n",
        "    }\n",
        ")\n",
        "\n",
        "print(f\"Минимальная плотность населения (топ-5):\\n {population_density.sort_values(by=['density'])[:5]}\")\n",
        "print(f\"Максимальная плотность населения (топ-5):\\n {population_density.sort_values(by=['density'], ascending=False)[:5]}\")"
      ],
      "execution_count": 4,
      "outputs": [
        {
          "output_type": "stream",
          "name": "stdout",
          "text": [
            "Минимальная плотность населения (топ-5):\n",
            "              country   density\n",
            "80        Greenland   0.026020\n",
            "223  Western Sahara   1.026346\n",
            "139        Mongolia   1.810751\n",
            "70    French Guiana   2.192407\n",
            "143         Namibia   2.476499\n",
            "Максимальная плотность населения (топ-5):\n",
            "         country       density\n",
            "138     Monaco   16271.500000\n",
            "122      Macau   16183.035714\n",
            "184  Singapore    6482.178932\n",
            "91   Hong Kong    6355.706960\n",
            "78   Gibraltar    3989.714286\n"
          ]
        }
      ]
    },
    {
      "cell_type": "markdown",
      "metadata": {
        "id": "B0B8m9rij7aK"
      },
      "source": [
        "2) Число стран без береговой линии (coastline) и процент таких стран от общего числа стран"
      ]
    },
    {
      "cell_type": "code",
      "metadata": {
        "colab": {
          "base_uri": "https://localhost:8080/"
        },
        "id": "b7xdymgUkCZk",
        "outputId": "46634435-a422-4425-d8c1-0aff59d73709"
      },
      "source": [
        "data[\"coastline\"] = pd.to_numeric(data[\"coastline\"])\n",
        "not_the_coastline = len(data[data[\"coastline\"] == 0])\n",
        "print(f\"Число стран без береговой линии - {not_the_coastline}\")\n",
        "\n",
        "coefficient = not_the_coastline / data[\"coastline\"].shape[0]\n",
        "percent = coefficient * 100\n",
        "print(f\"Процент стран без береговой линии от общего числа стран - {percent}\")"
      ],
      "execution_count": 5,
      "outputs": [
        {
          "output_type": "stream",
          "name": "stdout",
          "text": [
            "Число стран без береговой линии - 44\n",
            "Процент стран без береговой линии от общего числа стран - 19.383259911894275\n"
          ]
        }
      ]
    },
    {
      "cell_type": "code",
      "metadata": {
        "id": "r9EiHHAtkZ9S"
      },
      "source": [
        "3) Регион, где меньше всего людей владеют телефонами (phones_per_1000 - количество людей, владеющих телефонами, на 1000 человек)"
      ],
      "execution_count": null,
      "outputs": []
    },
    {
      "cell_type": "code",
      "metadata": {
        "colab": {
          "base_uri": "https://localhost:8080/"
        },
        "id": "8tSelfyVlMlx",
        "outputId": "783e51b9-a6c5-440f-f258-203e66cff44a"
      },
      "source": [
        "data['phones_per_1000'] = pd.to_numeric(data['phones_per_1000'], errors='coerce')\n",
        "region_min_phone = data.groupby(\"region\")['phones_per_1000'].sum().idxmin()\n",
        "print(f\"Регион, где меньше всего людей владеют телефонами - {region_min_phone}\")"
      ],
      "execution_count": 6,
      "outputs": [
        {
          "output_type": "stream",
          "name": "stdout",
          "text": [
            "Регион, где меньше всего людей владеют телефонами - NORTHERN AFRICA                    \n"
          ]
        }
      ]
    },
    {
      "cell_type": "markdown",
      "metadata": {
        "id": "WOWndC8Ildyr"
      },
      "source": [
        "4) Список стран, у которых отсутствует показатель грамотности (literacy), и при этом численность населения страны (population) более 1млн человек"
      ]
    },
    {
      "cell_type": "code",
      "metadata": {
        "colab": {
          "base_uri": "https://localhost:8080/",
          "height": 242
        },
        "id": "fd2Gehvrlge1",
        "outputId": "2b146ee3-d9f0-4300-c56f-7ad8437e4dfa"
      },
      "source": [
        "data[pd.isnull(data[\"literacy\"])][data[\"population\"] >= 1000000][['country', 'population']].sort_values('population')\n"
      ],
      "execution_count": 7,
      "outputs": [
        {
          "output_type": "stream",
          "name": "stderr",
          "text": [
            "/usr/local/lib/python3.7/dist-packages/ipykernel_launcher.py:1: UserWarning: Boolean Series key will be reindexed to match DataFrame index.\n",
            "  \"\"\"Entry point for launching an IPython kernel.\n"
          ]
        },
        {
          "output_type": "execute_result",
          "data": {
            "text/html": [
              "<div>\n",
              "<style scoped>\n",
              "    .dataframe tbody tr th:only-of-type {\n",
              "        vertical-align: middle;\n",
              "    }\n",
              "\n",
              "    .dataframe tbody tr th {\n",
              "        vertical-align: top;\n",
              "    }\n",
              "\n",
              "    .dataframe thead th {\n",
              "        text-align: right;\n",
              "    }\n",
              "</style>\n",
              "<table border=\"1\" class=\"dataframe\">\n",
              "  <thead>\n",
              "    <tr style=\"text-align: right;\">\n",
              "      <th></th>\n",
              "      <th>country</th>\n",
              "      <th>population</th>\n",
              "    </tr>\n",
              "  </thead>\n",
              "  <tbody>\n",
              "    <tr>\n",
              "      <th>74</th>\n",
              "      <td>Gaza Strip</td>\n",
              "      <td>1428757</td>\n",
              "    </tr>\n",
              "    <tr>\n",
              "      <th>123</th>\n",
              "      <td>Macedonia</td>\n",
              "      <td>2050554</td>\n",
              "    </tr>\n",
              "    <tr>\n",
              "      <th>222</th>\n",
              "      <td>West Bank</td>\n",
              "      <td>2460492</td>\n",
              "    </tr>\n",
              "    <tr>\n",
              "      <th>25</th>\n",
              "      <td>Bosnia &amp; Herzegovina</td>\n",
              "      <td>4498976</td>\n",
              "    </tr>\n",
              "    <tr>\n",
              "      <th>185</th>\n",
              "      <td>Slovakia</td>\n",
              "      <td>5439448</td>\n",
              "    </tr>\n",
              "  </tbody>\n",
              "</table>\n",
              "</div>"
            ],
            "text/plain": [
              "                   country  population\n",
              "74             Gaza Strip      1428757\n",
              "123             Macedonia      2050554\n",
              "222             West Bank      2460492\n",
              "25   Bosnia & Herzegovina      4498976\n",
              "185              Slovakia      5439448"
            ]
          },
          "metadata": {},
          "execution_count": 7
        }
      ]
    },
    {
      "cell_type": "markdown",
      "metadata": {
        "id": "LG-7cUM_ntZc"
      },
      "source": [
        "5) Топ 5 стран с самым низким показателем рождаемости (birthrate) по отношению к показателю смертности (deathrate)"
      ]
    },
    {
      "cell_type": "code",
      "metadata": {
        "colab": {
          "base_uri": "https://localhost:8080/",
          "height": 205
        },
        "id": "6rn8l2w42-Q1",
        "outputId": "93d121d3-cf94-4e35-ded4-8bcae55c8f55"
      },
      "source": [
        "new_data = pd.DataFrame(\n",
        "    {\n",
        "        \"country\": data[\"country\"],\n",
        "        \"relationships\": data[\"birthrate\"] / data[\"deathrate\"]\n",
        "    }\n",
        ")\n",
        "res = new_data.sort_values(\"relationships\")\n",
        "res[:5]"
      ],
      "execution_count": 8,
      "outputs": [
        {
          "output_type": "execute_result",
          "data": {
            "text/html": [
              "<div>\n",
              "<style scoped>\n",
              "    .dataframe tbody tr th:only-of-type {\n",
              "        vertical-align: middle;\n",
              "    }\n",
              "\n",
              "    .dataframe tbody tr th {\n",
              "        vertical-align: top;\n",
              "    }\n",
              "\n",
              "    .dataframe thead th {\n",
              "        text-align: right;\n",
              "    }\n",
              "</style>\n",
              "<table border=\"1\" class=\"dataframe\">\n",
              "  <thead>\n",
              "    <tr style=\"text-align: right;\">\n",
              "      <th></th>\n",
              "      <th>country</th>\n",
              "      <th>relationships</th>\n",
              "    </tr>\n",
              "  </thead>\n",
              "  <tbody>\n",
              "    <tr>\n",
              "      <th>211</th>\n",
              "      <td>Ukraine</td>\n",
              "      <td>0.612926</td>\n",
              "    </tr>\n",
              "    <tr>\n",
              "      <th>30</th>\n",
              "      <td>Bulgaria</td>\n",
              "      <td>0.676244</td>\n",
              "    </tr>\n",
              "    <tr>\n",
              "      <th>114</th>\n",
              "      <td>Latvia</td>\n",
              "      <td>0.676428</td>\n",
              "    </tr>\n",
              "    <tr>\n",
              "      <th>169</th>\n",
              "      <td>Russia</td>\n",
              "      <td>0.679181</td>\n",
              "    </tr>\n",
              "    <tr>\n",
              "      <th>138</th>\n",
              "      <td>Monaco</td>\n",
              "      <td>0.711851</td>\n",
              "    </tr>\n",
              "  </tbody>\n",
              "</table>\n",
              "</div>"
            ],
            "text/plain": [
              "       country  relationships\n",
              "211   Ukraine        0.612926\n",
              "30   Bulgaria        0.676244\n",
              "114    Latvia        0.676428\n",
              "169    Russia        0.679181\n",
              "138    Monaco        0.711851"
            ]
          },
          "metadata": {},
          "execution_count": 8
        }
      ]
    },
    {
      "cell_type": "markdown",
      "metadata": {
        "id": "_pLpt2dCDRq2"
      },
      "source": [
        "6) Страны, в которых преобладает сельское хозяйство (agriculture) над промышленностью (industry) и сферой обслуживания (service) и при этом средний показатель миграции (net migration) по региону положительный"
      ]
    },
    {
      "cell_type": "code",
      "metadata": {
        "colab": {
          "base_uri": "https://localhost:8080/",
          "height": 112
        },
        "id": "Auvvj-g2DUOu",
        "outputId": "3f7b1554-d51c-4ced-c5de-8b82bf3d7229"
      },
      "source": [
        "regions = data.groupby(\"region\").agg(net_migration=('net migration', 'sum'))\n",
        "data2 = pd.DataFrame(\n",
        "    {\n",
        "        \"country\": data[\"country\"],\n",
        "        \"region\": data[\"region\"],\n",
        "        \"predominance_agriculture_over_industry\": data[\"agriculture\"] - data[\"industry\"],\n",
        "        \"predominance_agriculture_over_service\": data[\"agriculture\"] - data[\"service\"],\n",
        "    }\n",
        ")\n",
        "data3 = data2.join(regions, on=\"region\")\n",
        "data4 = data3[(data3[\"predominance_agriculture_over_industry\"] > 0) & (data3[\"predominance_agriculture_over_service\"] > 0) & (data3[\"net_migration\"] > 0)]\n",
        "data4"
      ],
      "execution_count": 9,
      "outputs": [
        {
          "output_type": "execute_result",
          "data": {
            "text/html": [
              "<div>\n",
              "<style scoped>\n",
              "    .dataframe tbody tr th:only-of-type {\n",
              "        vertical-align: middle;\n",
              "    }\n",
              "\n",
              "    .dataframe tbody tr th {\n",
              "        vertical-align: top;\n",
              "    }\n",
              "\n",
              "    .dataframe thead th {\n",
              "        text-align: right;\n",
              "    }\n",
              "</style>\n",
              "<table border=\"1\" class=\"dataframe\">\n",
              "  <thead>\n",
              "    <tr style=\"text-align: right;\">\n",
              "      <th></th>\n",
              "      <th>country</th>\n",
              "      <th>region</th>\n",
              "      <th>predominance_agriculture_over_industry</th>\n",
              "      <th>predominance_agriculture_over_service</th>\n",
              "      <th>net_migration</th>\n",
              "    </tr>\n",
              "  </thead>\n",
              "  <tbody>\n",
              "    <tr>\n",
              "      <th>32</th>\n",
              "      <td>Burma</td>\n",
              "      <td>ASIA (EX. NEAR EAST)</td>\n",
              "      <td>0.482</td>\n",
              "      <td>0.211</td>\n",
              "      <td>38.43</td>\n",
              "    </tr>\n",
              "    <tr>\n",
              "      <th>113</th>\n",
              "      <td>Laos</td>\n",
              "      <td>ASIA (EX. NEAR EAST)</td>\n",
              "      <td>0.168</td>\n",
              "      <td>0.197</td>\n",
              "      <td>38.43</td>\n",
              "    </tr>\n",
              "  </tbody>\n",
              "</table>\n",
              "</div>"
            ],
            "text/plain": [
              "    country  ... net_migration\n",
              "32   Burma   ...         38.43\n",
              "113   Laos   ...         38.43\n",
              "\n",
              "[2 rows x 5 columns]"
            ]
          },
          "metadata": {},
          "execution_count": 9
        }
      ]
    }
  ]
}