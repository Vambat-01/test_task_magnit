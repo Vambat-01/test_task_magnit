{
 "cells": [
  {
   "cell_type": "code",
   "execution_count": null,
   "metadata": {
    "id": "pbjgkiBxf3hK"
   },
   "outputs": [],
   "source": [
    "Задание 4. Геометрические данные.\n",
    "Цель: Определить для каждого штата США соседние с ним штаты.\n",
    "Источник данных: https://public.opendatasoft.com/explore/dataset/us-state-boundaries/\n",
    "Описание: Данные по ссылке нужно экспортировать в любом удобном формете (вкладка Export) и считать через Python. \n",
    "Геометрические данные находится в столбце \"St Asgeojson\". Необходимо их подготовить, т.е. преобразовать в объекты геометрии \n",
    "Polygon и MultiPolygon и найти для каждой геометрии штатов их граничащие геометрии штатов.\n",
    "Для подготовки геометрий можно реализовать отдельную функцию, которая на вход будет получать json, а в качестве результата отдавать объект геометрии geometry.\n",
    "Результат выполнения: вывод любой удобной структуры, в которой каждому штату будет соответствовать перечисление его штатов-соседей.\n",
    "Основные библиотеки:\n",
    "    • shapely.geometry – для работы с геометрическими данными\n",
    "    • json – для работы с json-строками"
   ]
  },
  {
   "cell_type": "markdown",
   "metadata": {
    "id": "a52DkOns_Xxk"
   },
   "source": [
    "Импортируем библиотеки. Скачиваем данные. Считываем данные в DataFrame"
   ]
  },
  {
   "cell_type": "code",
   "execution_count": 3,
   "metadata": {
    "id": "TTKyODkIB89X"
   },
   "outputs": [],
   "source": [
    "from shapely.geometry import shape\n",
    "import json\n",
    "import requests\n",
    "import pandas as pd\n",
    "from typing import List\n",
    "\n",
    "\n",
    "def download(url: str, fname: str):\n",
    "  r = requests.get(url, allow_redirects=True)\n",
    "  with open(fname, 'wb') as f:\n",
    "    f.write(r.content)\n",
    "\n",
    "download('https://raw.githubusercontent.com/Vambat-01/test_task_magnit/main/resources/us-state-boundaries.csv', 'data.csv')\n",
    "\n",
    "\n",
    "eps = 0.001\n",
    "polygons = []\n",
    "data = pd.read_csv(\"data.csv\", sep=';')\n",
    "for d in data[\"St Asgeojson\"]:\n",
    "    polygons.append(shape(json.loads(d)).buffer(eps))\n",
    "\n",
    "state = []\n",
    "for s in data[\"name\"]:\n",
    "    state.append(s)\n",
    "\n",
    "data2 = pd.DataFrame(\n",
    "    {\n",
    "        \"state\": state,\n",
    "        \"St Asgeojson\": polygons\n",
    "    }\n",
    ")"
   ]
  },
  {
   "cell_type": "markdown",
   "metadata": {
    "id": "NdVKiIZpC4A1"
   },
   "source": [
    "Определяем для каждого штата США соседние с ним штаты. И выводим результат."
   ]
  },
  {
   "cell_type": "code",
   "execution_count": 4,
   "metadata": {
    "colab": {
     "base_uri": "https://localhost:8080/"
    },
    "id": "bwh7yCqmC_Xb",
    "outputId": "d4e685b3-262b-42fc-9e92-84e6adc1c898"
   },
   "outputs": [
    {
     "name": "stdout",
     "output_type": "stream",
     "text": [
      "Штат - Puerto Rico. Соседи - нет соседей.\n",
      "Штат - Commonwealth of the Northern Mariana Islands. Соседи - нет соседей.\n",
      "Штат - Arkansas. Соседи : Louisiana, Missouri, Texas, Oklahoma, Tennessee, Mississippi.\n",
      "Штат - West Virginia. Соседи : Kentucky, Ohio, Virginia, Maryland, Pennsylvania.\n",
      "Штат - Rhode Island. Соседи : Massachusetts, Connecticut, New York.\n",
      "Штат - Washington. Соседи : Oregon, Idaho.\n",
      "Штат - Louisiana. Соседи : Arkansas, Texas, Mississippi.\n",
      "Штат - Minnesota. Соседи : South Dakota, Michigan, North Dakota, Wisconsin, Iowa.\n",
      "Штат - New Hampshire. Соседи : Massachusetts, Vermont, Maine.\n",
      "Штат - California. Соседи : Oregon, Arizona, Nevada.\n",
      "Штат - Oregon. Соседи : Washington, California, Nevada, Idaho.\n",
      "Штат - Missouri. Соседи : Arkansas, Kentucky, Oklahoma, Kansas, Nebraska, Illinois, Tennessee, Iowa.\n",
      "Штат - District of Columbia. Соседи : Virginia, Maryland.\n",
      "Штат - Arizona. Соседи : California, Nevada, Colorado, New Mexico, Utah.\n",
      "Штат - Nevada. Соседи : California, Oregon, Arizona, Idaho, Utah.\n",
      "Штат - Kentucky. Соседи : West Virginia, Missouri, Indiana, Ohio, Virginia, Illinois, Tennessee.\n",
      "Штат - South Dakota. Соседи : Minnesota, Nebraska, Montana, Wyoming, North Dakota, Iowa.\n",
      "Штат - Massachusetts. Соседи : Rhode Island, New Hampshire, Vermont, Connecticut, New York.\n",
      "Штат - American Samoa. Соседи - нет соседей.\n",
      "Штат - Texas. Соседи : Arkansas, Louisiana, Oklahoma, New Mexico.\n",
      "Штат - Guam. Соседи - нет соседей.\n",
      "Штат - Colorado. Соседи : Arizona, Oklahoma, Kansas, Nebraska, New Mexico, Wyoming, Utah.\n",
      "Штат - South Carolina. Соседи : North Carolina, Georgia.\n",
      "Штат - Oklahoma. Соседи : Arkansas, Missouri, Texas, Colorado, Kansas, New Mexico.\n",
      "Штат - Indiana. Соседи : Kentucky, Michigan, Ohio, Illinois.\n",
      "Штат - Michigan. Соседи : Minnesota, Indiana, Ohio, Illinois, Wisconsin.\n",
      "Штат - Alaska. Соседи - нет соседей.\n",
      "Штат - Alabama. Соседи : Tennessee, Mississippi, Georgia, Florida.\n",
      "Штат - Ohio. Соседи : West Virginia, Kentucky, Indiana, Michigan, Pennsylvania.\n",
      "Штат - Virginia. Соседи : West Virginia, District of Columbia, Kentucky, Maryland, Tennessee, North Carolina.\n",
      "Штат - Hawaii. Соседи - нет соседей.\n",
      "Штат - Kansas. Соседи : Missouri, Colorado, Oklahoma, Nebraska.\n",
      "Штат - Delaware. Соседи : Maryland, New Jersey, Pennsylvania.\n",
      "Штат - Idaho. Соседи : Washington, Oregon, Nevada, Montana, Wyoming, Utah.\n",
      "Штат - Nebraska. Соседи : Missouri, South Dakota, Colorado, Kansas, Wyoming, Iowa.\n",
      "Штат - Montana. Соседи : South Dakota, Idaho, Wyoming, North Dakota.\n",
      "Штат - Maryland. Соседи : West Virginia, District of Columbia, Virginia, Delaware, Pennsylvania.\n",
      "Штат - New Mexico. Соседи : Arizona, Texas, Colorado, Oklahoma, Utah.\n",
      "Штат - Illinois. Соседи : Missouri, Kentucky, Indiana, Michigan, Wisconsin, Iowa.\n",
      "Штат - Tennessee. Соседи : Arkansas, Missouri, Kentucky, Alabama, Virginia, North Carolina, Mississippi, Georgia.\n",
      "Штат - Wyoming. Соседи : South Dakota, Colorado, Idaho, Nebraska, Montana, Utah.\n",
      "Штат - North Dakota. Соседи : Minnesota, South Dakota, Montana.\n",
      "Штат - North Carolina. Соседи : South Carolina, Virginia, Tennessee, Georgia.\n",
      "Штат - Vermont. Соседи : New Hampshire, Massachusetts, New York.\n",
      "Штат - New Jersey. Соседи : Delaware, Pennsylvania, New York.\n",
      "Штат - Connecticut. Соседи : Rhode Island, Massachusetts, New York.\n",
      "Штат - Pennsylvania. Соседи : West Virginia, Ohio, Delaware, Maryland, New Jersey, New York.\n",
      "Штат - Utah. Соседи : Arizona, Nevada, Colorado, Idaho, New Mexico, Wyoming.\n",
      "Штат - Mississippi. Соседи : Arkansas, Louisiana, Alabama, Tennessee.\n",
      "Штат - United States Virgin Islands. Соседи - нет соседей.\n",
      "Штат - Wisconsin. Соседи : Minnesota, Michigan, Illinois, Iowa.\n",
      "Штат - Georgia. Соседи : South Carolina, Alabama, Tennessee, North Carolina, Florida.\n",
      "Штат - New York. Соседи : Rhode Island, Massachusetts, Vermont, New Jersey, Connecticut, Pennsylvania.\n",
      "Штат - Iowa. Соседи : Minnesota, Missouri, South Dakota, Nebraska, Illinois, Wisconsin.\n",
      "Штат - Florida. Соседи : Alabama, Georgia.\n",
      "Штат - Maine. Соседи : New Hampshire.\n"
     ]
    }
   ],
   "source": [
    "def print_info_about_state(state: str, neighbors: List[str]):\n",
    "    \"\"\"\n",
    "        Выводит информацию о штате и его соседях\n",
    "    :param state: штат\n",
    "    :param neighbors: соседи\n",
    "    \"\"\"\n",
    "    info = f\"Штат - {state}. Соседи\"\n",
    "    if not neighbors:\n",
    "        info += \" - нет соседей.\"\n",
    "        print(info)\n",
    "    elif len(neighbors) == 1:\n",
    "        info += f\" : {neighbors[0]}.\"\n",
    "        print(info)\n",
    "    else:\n",
    "        counter = 0\n",
    "        for neighbor in neighbors:\n",
    "            counter += 1\n",
    "            if counter == 1:\n",
    "                info += f\" : {neighbor},\"\n",
    "            elif counter != len(neighbors):\n",
    "                info += f\" {neighbor},\"\n",
    "            else:\n",
    "                info += f\" {neighbor}.\"\n",
    "        print(info)\n",
    "\n",
    "\n",
    "for i in range(len(polygons)):\n",
    "    intersections = []\n",
    "    for j in range(len(polygons)):\n",
    "        a = polygons[i]\n",
    "        b = polygons[j]\n",
    "        if a != b:\n",
    "            if a.intersection(b):\n",
    "                state = data2[data2[\"St Asgeojson\"] == b]\n",
    "                intersections.append(state[\"state\"].values[0])\n",
    "    s = data2[data2[\"St Asgeojson\"] == polygons[i]]\n",
    "    print_info_about_state(s[\"state\"].values[0], intersections)"
   ]
  },
  {
   "cell_type": "markdown",
   "metadata": {
    "id": "yfjuX5Yx-0rR"
   },
   "source": []
  }
 ],
 "metadata": {
  "colab": {
   "name": "Task_4.ipynb",
   "provenance": []
  },
  "kernelspec": {
   "display_name": "Python 3 (ipykernel)",
   "language": "python",
   "name": "python3"
  },
  "language_info": {
   "codemirror_mode": {
    "name": "ipython",
    "version": 3
   },
   "file_extension": ".py",
   "mimetype": "text/x-python",
   "name": "python",
   "nbconvert_exporter": "python",
   "pygments_lexer": "ipython3",
   "version": "3.9.6"
  }
 },
 "nbformat": 4,
 "nbformat_minor": 1
}
