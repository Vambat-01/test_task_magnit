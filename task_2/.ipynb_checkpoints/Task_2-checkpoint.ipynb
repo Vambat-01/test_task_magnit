{
 "cells": [
  {
   "cell_type": "markdown",
   "metadata": {
    "id": "pG8n0e9GD7eW"
   },
   "source": [
    "Задание 2. Классы и граф.\n",
    "Цель: Найти кратчайший путь и его длину между объектами классов.\n",
    "Описание: Требуется создать родительский класс \"Географическая точка\" с обязательным атрибутом ID вершины (можно добавить дополнительные атрибуты, методы), от которого нужно наследовать различные подклассы географических объектов, например Здание, Остановка, Парковка и т.д. со своими особенными атрибутами/методами, например Этажность для зданий, Число маршрутов для остановок и т.д.\n",
    "Далее нужно создать граф с не менее 10 вершинами, между которыми будет рёберная связь, сгенерированная вручную или случайным образом. Каждое ребро должно иметь свой вес (длину). Все вершины ранее созданных подкласcов географических объектов должны принадлежать этому графу.\n",
    "Требуется создать несколько объектов подклассов географических точек и найти кратчайшие пути между ними в построенном графе.\n",
    "Результат выполнения: граф в графическом или текстовом виде, вывод информации о кратчайшем пути и его длине между всеми парами созданных географических объектов: <Объект 1 (его атрибуты)> -> <Объект 2 (его атрибуты)>: список вершин, длина пути\n",
    "Основные библиотеки:\n",
    "    • networkx – для создания и обработки графа"
   ]
  },
  {
   "cell_type": "markdown",
   "metadata": {
    "id": "zQPRSl42xJRq"
   },
   "source": [
    "Импортируем библиотеки"
   ]
  },
  {
   "cell_type": "code",
   "execution_count": null,
   "metadata": {
    "id": "0iMQ5sgzvM6V"
   },
   "outputs": [],
   "source": [
    "from dataclasses import dataclass\n",
    "import networkx as nx\n",
    "from typing import List"
   ]
  },
  {
   "cell_type": "markdown",
   "metadata": {
    "id": "NB_x2JK2xTks"
   },
   "source": [
    "Создаем родительский и дочерние классы. Создаем объекты подклассов. Создаем граф."
   ]
  },
  {
   "cell_type": "code",
   "execution_count": null,
   "metadata": {
    "colab": {
     "base_uri": "https://localhost:8080/",
     "height": 574
    },
    "id": "6EM8_a5LyKX6",
    "outputId": "18e8eae1-5b7b-4f0e-86c2-51609ca2149a"
   },
   "outputs": [
    {
     "data": {
      "text/plain": [
       "{(1, 2): Text(0.18754800147831296, 0.15302018039064338, '3'),\n",
       " (1, 3): Text(-0.10844199685379162, 0.21516264243541805, '1'),\n",
       " (1, 4): Text(-0.05105116567926324, -0.051759437404068284, '4'),\n",
       " (1, 6): Text(0.0036210460215701096, -0.20468952355824813, '6'),\n",
       " (1, 9): Text(0.2756711562288337, 0.05248718097509128, '7'),\n",
       " (2, 5): Text(0.1331564430502881, 0.4506881152180905, '5'),\n",
       " (2, 9): Text(0.3564477550358003, 0.22997671491393806, '9'),\n",
       " (3, 4): Text(-0.2662645652044013, 0.18787255857955315, '2'),\n",
       " (3, 5): Text(-0.16283355528181648, 0.5128305772628652, '5'),\n",
       " (3, 11): Text(-0.42360012742541553, 0.5367580707545014, '12'),\n",
       " (4, 6): Text(-0.15420152232903955, -0.23197960741411303, '6'),\n",
       " (6, 7): Text(-0.13534573832032185, -0.5663018196938665, '8'),\n",
       " (7, 8): Text(-0.19363785442388443, -0.87384697290972, '11'),\n",
       " (9, 10): Text(0.5848973597923767, 0.13061507112534307, '10')}"
      ]
     },
     "execution_count": 3,
     "metadata": {},
     "output_type": "execute_result"
    },
    {
     "data": {
      "image/png": "[encoded data removed]",
      "text/plain": [
       "<Figure size 432x288 with 1 Axes>"
      ]
     },
     "metadata": {},
     "output_type": "display_data"
    }
   ],
   "source": [
    "@dataclass\n",
    "class GeographicalPoint:\n",
    "    id: int\n",
    "    latitude: float\n",
    "    longitude: float\n",
    "\n",
    "\n",
    "@dataclass\n",
    "class House(GeographicalPoint):\n",
    "    floors: int\n",
    "    has_gym: bool\n",
    "\n",
    "\n",
    "@dataclass\n",
    "class Garage(GeographicalPoint):\n",
    "    numbers_of_car: int\n",
    "\n",
    "\n",
    "@dataclass\n",
    "class Gas_station(GeographicalPoint):\n",
    "    gas_storage: int\n",
    "    gasoline_storage: int\n",
    "\n",
    "\n",
    "@dataclass\n",
    "class Mall(GeographicalPoint):\n",
    "    has_parking: bool\n",
    "    shops: int\n",
    "\n",
    "\n",
    "my_house = House(1, 45.65, 45.73, 2, True)\n",
    "private_garage = Garage(2, 75.43, 77.82, 35)\n",
    "texaco = Refill(3, 44.11, 44.18, 800, 1200)\n",
    "lucky_world = Mall(4, 51.21, 51.40, True, 24)\n",
    "friends_house = House(5, 46.65, 45.83, 2, True)\n",
    "old_bob_gas = Refill(6, 74.11, 74.18, 500, 1000)\n",
    "big_mall = Mall(7, 53.41, 53.40, True, 58)\n",
    "city_parking = Garage(8, 85.43, 85.82, 60)\n",
    "parental_home = House(9, 69.65, 69.21, 2, False)\n",
    "abandoned_house = House(10, 69.65, 69.21, 1, False)\n",
    "small_mall = Mall(11, 53.41, 53.40, True, 10)\n",
    "\n",
    "\n",
    "objects = {\n",
    "    1: my_house,\n",
    "    2: private_garage,\n",
    "    3: texaco,\n",
    "    4: lucky_world,\n",
    "    5: friends_house,\n",
    "    6: old_bob_gas,\n",
    "    7: big_mall,\n",
    "    8: city_parking,\n",
    "    9: parental_home,\n",
    "    10: abandoned_house,\n",
    "    11: small_mall\n",
    "}\n",
    "\n",
    "g = nx.Graph()\n",
    "g.add_edges_from([\n",
    "    (1, 3, {'weight': 1}),\n",
    "    (1, 2, {'weight': 3}),\n",
    "    (1, 4, {'weight': 4}),\n",
    "    (3, 4, {'weight': 2}),\n",
    "    (3, 5, {'weight': 5}),\n",
    "    (1, 6, {'weight': 6}),\n",
    "    (6, 4, {'weight': 6}),\n",
    "    (6, 7, {'weight': 8}),\n",
    "    (2, 9, {'weight': 9}),\n",
    "    (2, 5, {'weight': 5}),\n",
    "    (1, 9, {'weight': 7}),\n",
    "    (9, 10, {'weight': 10}),\n",
    "    (7, 8, {'weight': 11}),\n",
    "    (3, 11, {'weight': 12}),\n",
    "])\n",
    "\n",
    "pos = nx.spring_layout(g)\n",
    "labels = nx.get_edge_attributes(g, 'weight')\n",
    "nx.draw(g, pos, with_labels=True, font_weight='bold')\n",
    "nx.draw_networkx_edge_labels(g, pos, edge_labels=labels)"
   ]
  },
  {
   "cell_type": "markdown",
   "metadata": {
    "id": "LblQywYnypm_"
   },
   "source": [
    "Ищем кратчайшие пути между вершинами и выводим полученный результат."
   ]
  },
  {
   "cell_type": "code",
   "execution_count": null,
   "metadata": {
    "colab": {
     "base_uri": "https://localhost:8080/"
    },
    "id": "vP26e_PjzT6i",
    "outputId": "ce1a3c47-bc88-4452-f866-c1ac4dcdd236"
   },
   "outputs": [
    {
     "name": "stdout",
     "output_type": "stream",
     "text": [
      "Кратчайший путь - House(id=1, latitude=45.65, longitude=45.73, floors=2, has_gym=True) -> Garage(id=2, latitude=75.43, longitude=77.82, numbers_of_car=35). Длинна пути - 2. Список вершин - [1, 2].\n",
      "Кратчайший путь - House(id=1, latitude=45.65, longitude=45.73, floors=2, has_gym=True) -> Refill(id=3, latitude=44.11, longitude=44.18, gas_storage=800, gasoline_storage=1200). Длинна пути - 2. Список вершин - [1, 3].\n",
      "Кратчайший путь - House(id=1, latitude=45.65, longitude=45.73, floors=2, has_gym=True) -> Refill(id=3, latitude=44.11, longitude=44.18, gas_storage=800, gasoline_storage=1200) -> Mall(id=4, latitude=51.21, longitude=51.4, has_parking=True, shops=24). Длинна пути - 3. Список вершин - [1, 3, 4].\n",
      "Кратчайший путь - House(id=1, latitude=45.65, longitude=45.73, floors=2, has_gym=True) -> Refill(id=3, latitude=44.11, longitude=44.18, gas_storage=800, gasoline_storage=1200) -> House(id=5, latitude=46.65, longitude=45.83, floors=2, has_gym=True). Длинна пути - 3. Список вершин - [1, 3, 5].\n",
      "Кратчайший путь - House(id=1, latitude=45.65, longitude=45.73, floors=2, has_gym=True) -> Refill(id=6, latitude=74.11, longitude=74.18, gas_storage=500, gasoline_storage=1000). Длинна пути - 2. Список вершин - [1, 6].\n",
      "Кратчайший путь - House(id=1, latitude=45.65, longitude=45.73, floors=2, has_gym=True) -> Refill(id=6, latitude=74.11, longitude=74.18, gas_storage=500, gasoline_storage=1000) -> Mall(id=7, latitude=53.41, longitude=53.4, has_parking=True, shops=58). Длинна пути - 3. Список вершин - [1, 6, 7].\n",
      "Кратчайший путь - House(id=1, latitude=45.65, longitude=45.73, floors=2, has_gym=True) -> Refill(id=6, latitude=74.11, longitude=74.18, gas_storage=500, gasoline_storage=1000) -> Mall(id=7, latitude=53.41, longitude=53.4, has_parking=True, shops=58) -> Garage(id=8, latitude=85.43, longitude=85.82, numbers_of_car=60). Длинна пути - 4. Список вершин - [1, 6, 7, 8].\n",
      "Кратчайший путь - House(id=1, latitude=45.65, longitude=45.73, floors=2, has_gym=True) -> House(id=9, latitude=69.65, longitude=69.21, floors=2, has_gym=False). Длинна пути - 2. Список вершин - [1, 9].\n",
      "Кратчайший путь - House(id=1, latitude=45.65, longitude=45.73, floors=2, has_gym=True) -> House(id=9, latitude=69.65, longitude=69.21, floors=2, has_gym=False) -> House(id=10, latitude=69.65, longitude=69.21, floors=1, has_gym=False). Длинна пути - 3. Список вершин - [1, 9, 10].\n",
      "Кратчайший путь - House(id=1, latitude=45.65, longitude=45.73, floors=2, has_gym=True) -> Refill(id=3, latitude=44.11, longitude=44.18, gas_storage=800, gasoline_storage=1200) -> Mall(id=11, latitude=53.41, longitude=53.4, has_parking=True, shops=10). Длинна пути - 3. Список вершин - [1, 3, 11].\n",
      "Кратчайший путь - Garage(id=2, latitude=75.43, longitude=77.82, numbers_of_car=35) -> House(id=1, latitude=45.65, longitude=45.73, floors=2, has_gym=True) -> Refill(id=3, latitude=44.11, longitude=44.18, gas_storage=800, gasoline_storage=1200). Длинна пути - 3. Список вершин - [2, 1, 3].\n",
      "Кратчайший путь - Garage(id=2, latitude=75.43, longitude=77.82, numbers_of_car=35) -> House(id=1, latitude=45.65, longitude=45.73, floors=2, has_gym=True) -> Refill(id=3, latitude=44.11, longitude=44.18, gas_storage=800, gasoline_storage=1200) -> Mall(id=4, latitude=51.21, longitude=51.4, has_parking=True, shops=24). Длинна пути - 4. Список вершин - [2, 1, 3, 4].\n",
      "Кратчайший путь - Garage(id=2, latitude=75.43, longitude=77.82, numbers_of_car=35) -> House(id=5, latitude=46.65, longitude=45.83, floors=2, has_gym=True). Длинна пути - 2. Список вершин - [2, 5].\n",
      "Кратчайший путь - Garage(id=2, latitude=75.43, longitude=77.82, numbers_of_car=35) -> House(id=1, latitude=45.65, longitude=45.73, floors=2, has_gym=True) -> Refill(id=6, latitude=74.11, longitude=74.18, gas_storage=500, gasoline_storage=1000). Длинна пути - 3. Список вершин - [2, 1, 6].\n",
      "Кратчайший путь - Garage(id=2, latitude=75.43, longitude=77.82, numbers_of_car=35) -> House(id=1, latitude=45.65, longitude=45.73, floors=2, has_gym=True) -> Refill(id=6, latitude=74.11, longitude=74.18, gas_storage=500, gasoline_storage=1000) -> Mall(id=7, latitude=53.41, longitude=53.4, has_parking=True, shops=58). Длинна пути - 4. Список вершин - [2, 1, 6, 7].\n",
      "Кратчайший путь - Garage(id=2, latitude=75.43, longitude=77.82, numbers_of_car=35) -> House(id=1, latitude=45.65, longitude=45.73, floors=2, has_gym=True) -> Refill(id=6, latitude=74.11, longitude=74.18, gas_storage=500, gasoline_storage=1000) -> Mall(id=7, latitude=53.41, longitude=53.4, has_parking=True, shops=58) -> Garage(id=8, latitude=85.43, longitude=85.82, numbers_of_car=60). Длинна пути - 5. Список вершин - [2, 1, 6, 7, 8].\n",
      "Кратчайший путь - Garage(id=2, latitude=75.43, longitude=77.82, numbers_of_car=35) -> House(id=9, latitude=69.65, longitude=69.21, floors=2, has_gym=False). Длинна пути - 2. Список вершин - [2, 9].\n",
      "Кратчайший путь - Garage(id=2, latitude=75.43, longitude=77.82, numbers_of_car=35) -> House(id=9, latitude=69.65, longitude=69.21, floors=2, has_gym=False) -> House(id=10, latitude=69.65, longitude=69.21, floors=1, has_gym=False). Длинна пути - 3. Список вершин - [2, 9, 10].\n",
      "Кратчайший путь - Garage(id=2, latitude=75.43, longitude=77.82, numbers_of_car=35) -> House(id=1, latitude=45.65, longitude=45.73, floors=2, has_gym=True) -> Refill(id=3, latitude=44.11, longitude=44.18, gas_storage=800, gasoline_storage=1200) -> Mall(id=11, latitude=53.41, longitude=53.4, has_parking=True, shops=10). Длинна пути - 4. Список вершин - [2, 1, 3, 11].\n",
      "Кратчайший путь - Refill(id=3, latitude=44.11, longitude=44.18, gas_storage=800, gasoline_storage=1200) -> Mall(id=4, latitude=51.21, longitude=51.4, has_parking=True, shops=24). Длинна пути - 2. Список вершин - [3, 4].\n",
      "Кратчайший путь - Refill(id=3, latitude=44.11, longitude=44.18, gas_storage=800, gasoline_storage=1200) -> House(id=5, latitude=46.65, longitude=45.83, floors=2, has_gym=True). Длинна пути - 2. Список вершин - [3, 5].\n",
      "Кратчайший путь - Refill(id=3, latitude=44.11, longitude=44.18, gas_storage=800, gasoline_storage=1200) -> House(id=1, latitude=45.65, longitude=45.73, floors=2, has_gym=True) -> Refill(id=6, latitude=74.11, longitude=74.18, gas_storage=500, gasoline_storage=1000). Длинна пути - 3. Список вершин - [3, 1, 6].\n",
      "Кратчайший путь - Refill(id=3, latitude=44.11, longitude=44.18, gas_storage=800, gasoline_storage=1200) -> House(id=1, latitude=45.65, longitude=45.73, floors=2, has_gym=True) -> Refill(id=6, latitude=74.11, longitude=74.18, gas_storage=500, gasoline_storage=1000) -> Mall(id=7, latitude=53.41, longitude=53.4, has_parking=True, shops=58). Длинна пути - 4. Список вершин - [3, 1, 6, 7].\n",
      "Кратчайший путь - Refill(id=3, latitude=44.11, longitude=44.18, gas_storage=800, gasoline_storage=1200) -> House(id=1, latitude=45.65, longitude=45.73, floors=2, has_gym=True) -> Refill(id=6, latitude=74.11, longitude=74.18, gas_storage=500, gasoline_storage=1000) -> Mall(id=7, latitude=53.41, longitude=53.4, has_parking=True, shops=58) -> Garage(id=8, latitude=85.43, longitude=85.82, numbers_of_car=60). Длинна пути - 5. Список вершин - [3, 1, 6, 7, 8].\n",
      "Кратчайший путь - Refill(id=3, latitude=44.11, longitude=44.18, gas_storage=800, gasoline_storage=1200) -> House(id=1, latitude=45.65, longitude=45.73, floors=2, has_gym=True) -> House(id=9, latitude=69.65, longitude=69.21, floors=2, has_gym=False). Длинна пути - 3. Список вершин - [3, 1, 9].\n",
      "Кратчайший путь - Refill(id=3, latitude=44.11, longitude=44.18, gas_storage=800, gasoline_storage=1200) -> House(id=1, latitude=45.65, longitude=45.73, floors=2, has_gym=True) -> House(id=9, latitude=69.65, longitude=69.21, floors=2, has_gym=False) -> House(id=10, latitude=69.65, longitude=69.21, floors=1, has_gym=False). Длинна пути - 4. Список вершин - [3, 1, 9, 10].\n",
      "Кратчайший путь - Refill(id=3, latitude=44.11, longitude=44.18, gas_storage=800, gasoline_storage=1200) -> Mall(id=11, latitude=53.41, longitude=53.4, has_parking=True, shops=10). Длинна пути - 2. Список вершин - [3, 11].\n",
      "Кратчайший путь - Mall(id=4, latitude=51.21, longitude=51.4, has_parking=True, shops=24) -> Refill(id=3, latitude=44.11, longitude=44.18, gas_storage=800, gasoline_storage=1200) -> House(id=5, latitude=46.65, longitude=45.83, floors=2, has_gym=True). Длинна пути - 3. Список вершин - [4, 3, 5].\n",
      "Кратчайший путь - Mall(id=4, latitude=51.21, longitude=51.4, has_parking=True, shops=24) -> Refill(id=6, latitude=74.11, longitude=74.18, gas_storage=500, gasoline_storage=1000). Длинна пути - 2. Список вершин - [4, 6].\n",
      "Кратчайший путь - Mall(id=4, latitude=51.21, longitude=51.4, has_parking=True, shops=24) -> Refill(id=6, latitude=74.11, longitude=74.18, gas_storage=500, gasoline_storage=1000) -> Mall(id=7, latitude=53.41, longitude=53.4, has_parking=True, shops=58). Длинна пути - 3. Список вершин - [4, 6, 7].\n",
      "Кратчайший путь - Mall(id=4, latitude=51.21, longitude=51.4, has_parking=True, shops=24) -> Refill(id=6, latitude=74.11, longitude=74.18, gas_storage=500, gasoline_storage=1000) -> Mall(id=7, latitude=53.41, longitude=53.4, has_parking=True, shops=58) -> Garage(id=8, latitude=85.43, longitude=85.82, numbers_of_car=60). Длинна пути - 4. Список вершин - [4, 6, 7, 8].\n",
      "Кратчайший путь - Mall(id=4, latitude=51.21, longitude=51.4, has_parking=True, shops=24) -> Refill(id=3, latitude=44.11, longitude=44.18, gas_storage=800, gasoline_storage=1200) -> House(id=1, latitude=45.65, longitude=45.73, floors=2, has_gym=True) -> House(id=9, latitude=69.65, longitude=69.21, floors=2, has_gym=False). Длинна пути - 4. Список вершин - [4, 3, 1, 9].\n",
      "Кратчайший путь - Mall(id=4, latitude=51.21, longitude=51.4, has_parking=True, shops=24) -> Refill(id=3, latitude=44.11, longitude=44.18, gas_storage=800, gasoline_storage=1200) -> House(id=1, latitude=45.65, longitude=45.73, floors=2, has_gym=True) -> House(id=9, latitude=69.65, longitude=69.21, floors=2, has_gym=False) -> House(id=10, latitude=69.65, longitude=69.21, floors=1, has_gym=False). Длинна пути - 5. Список вершин - [4, 3, 1, 9, 10].\n",
      "Кратчайший путь - Mall(id=4, latitude=51.21, longitude=51.4, has_parking=True, shops=24) -> Refill(id=3, latitude=44.11, longitude=44.18, gas_storage=800, gasoline_storage=1200) -> Mall(id=11, latitude=53.41, longitude=53.4, has_parking=True, shops=10). Длинна пути - 3. Список вершин - [4, 3, 11].\n",
      "Кратчайший путь - House(id=5, latitude=46.65, longitude=45.83, floors=2, has_gym=True) -> Refill(id=3, latitude=44.11, longitude=44.18, gas_storage=800, gasoline_storage=1200) -> House(id=1, latitude=45.65, longitude=45.73, floors=2, has_gym=True) -> Refill(id=6, latitude=74.11, longitude=74.18, gas_storage=500, gasoline_storage=1000). Длинна пути - 4. Список вершин - [5, 3, 1, 6].\n",
      "Кратчайший путь - House(id=5, latitude=46.65, longitude=45.83, floors=2, has_gym=True) -> Refill(id=3, latitude=44.11, longitude=44.18, gas_storage=800, gasoline_storage=1200) -> House(id=1, latitude=45.65, longitude=45.73, floors=2, has_gym=True) -> Refill(id=6, latitude=74.11, longitude=74.18, gas_storage=500, gasoline_storage=1000) -> Mall(id=7, latitude=53.41, longitude=53.4, has_parking=True, shops=58). Длинна пути - 5. Список вершин - [5, 3, 1, 6, 7].\n",
      "Кратчайший путь - House(id=5, latitude=46.65, longitude=45.83, floors=2, has_gym=True) -> Refill(id=3, latitude=44.11, longitude=44.18, gas_storage=800, gasoline_storage=1200) -> House(id=1, latitude=45.65, longitude=45.73, floors=2, has_gym=True) -> Refill(id=6, latitude=74.11, longitude=74.18, gas_storage=500, gasoline_storage=1000) -> Mall(id=7, latitude=53.41, longitude=53.4, has_parking=True, shops=58) -> Garage(id=8, latitude=85.43, longitude=85.82, numbers_of_car=60). Длинна пути - 6. Список вершин - [5, 3, 1, 6, 7, 8].\n",
      "Кратчайший путь - House(id=5, latitude=46.65, longitude=45.83, floors=2, has_gym=True) -> Refill(id=3, latitude=44.11, longitude=44.18, gas_storage=800, gasoline_storage=1200) -> House(id=1, latitude=45.65, longitude=45.73, floors=2, has_gym=True) -> House(id=9, latitude=69.65, longitude=69.21, floors=2, has_gym=False). Длинна пути - 4. Список вершин - [5, 3, 1, 9].\n",
      "Кратчайший путь - House(id=5, latitude=46.65, longitude=45.83, floors=2, has_gym=True) -> Refill(id=3, latitude=44.11, longitude=44.18, gas_storage=800, gasoline_storage=1200) -> House(id=1, latitude=45.65, longitude=45.73, floors=2, has_gym=True) -> House(id=9, latitude=69.65, longitude=69.21, floors=2, has_gym=False) -> House(id=10, latitude=69.65, longitude=69.21, floors=1, has_gym=False). Длинна пути - 5. Список вершин - [5, 3, 1, 9, 10].\n",
      "Кратчайший путь - House(id=5, latitude=46.65, longitude=45.83, floors=2, has_gym=True) -> Refill(id=3, latitude=44.11, longitude=44.18, gas_storage=800, gasoline_storage=1200) -> Mall(id=11, latitude=53.41, longitude=53.4, has_parking=True, shops=10). Длинна пути - 3. Список вершин - [5, 3, 11].\n",
      "Кратчайший путь - Refill(id=6, latitude=74.11, longitude=74.18, gas_storage=500, gasoline_storage=1000) -> Mall(id=7, latitude=53.41, longitude=53.4, has_parking=True, shops=58). Длинна пути - 2. Список вершин - [6, 7].\n",
      "Кратчайший путь - Refill(id=6, latitude=74.11, longitude=74.18, gas_storage=500, gasoline_storage=1000) -> Mall(id=7, latitude=53.41, longitude=53.4, has_parking=True, shops=58) -> Garage(id=8, latitude=85.43, longitude=85.82, numbers_of_car=60). Длинна пути - 3. Список вершин - [6, 7, 8].\n",
      "Кратчайший путь - Refill(id=6, latitude=74.11, longitude=74.18, gas_storage=500, gasoline_storage=1000) -> House(id=1, latitude=45.65, longitude=45.73, floors=2, has_gym=True) -> House(id=9, latitude=69.65, longitude=69.21, floors=2, has_gym=False). Длинна пути - 3. Список вершин - [6, 1, 9].\n",
      "Кратчайший путь - Refill(id=6, latitude=74.11, longitude=74.18, gas_storage=500, gasoline_storage=1000) -> House(id=1, latitude=45.65, longitude=45.73, floors=2, has_gym=True) -> House(id=9, latitude=69.65, longitude=69.21, floors=2, has_gym=False) -> House(id=10, latitude=69.65, longitude=69.21, floors=1, has_gym=False). Длинна пути - 4. Список вершин - [6, 1, 9, 10].\n",
      "Кратчайший путь - Refill(id=6, latitude=74.11, longitude=74.18, gas_storage=500, gasoline_storage=1000) -> House(id=1, latitude=45.65, longitude=45.73, floors=2, has_gym=True) -> Refill(id=3, latitude=44.11, longitude=44.18, gas_storage=800, gasoline_storage=1200) -> Mall(id=11, latitude=53.41, longitude=53.4, has_parking=True, shops=10). Длинна пути - 4. Список вершин - [6, 1, 3, 11].\n",
      "Кратчайший путь - Mall(id=7, latitude=53.41, longitude=53.4, has_parking=True, shops=58) -> Garage(id=8, latitude=85.43, longitude=85.82, numbers_of_car=60). Длинна пути - 2. Список вершин - [7, 8].\n",
      "Кратчайший путь - Mall(id=7, latitude=53.41, longitude=53.4, has_parking=True, shops=58) -> Refill(id=6, latitude=74.11, longitude=74.18, gas_storage=500, gasoline_storage=1000) -> House(id=1, latitude=45.65, longitude=45.73, floors=2, has_gym=True) -> House(id=9, latitude=69.65, longitude=69.21, floors=2, has_gym=False). Длинна пути - 4. Список вершин - [7, 6, 1, 9].\n",
      "Кратчайший путь - Mall(id=7, latitude=53.41, longitude=53.4, has_parking=True, shops=58) -> Refill(id=6, latitude=74.11, longitude=74.18, gas_storage=500, gasoline_storage=1000) -> House(id=1, latitude=45.65, longitude=45.73, floors=2, has_gym=True) -> House(id=9, latitude=69.65, longitude=69.21, floors=2, has_gym=False) -> House(id=10, latitude=69.65, longitude=69.21, floors=1, has_gym=False). Длинна пути - 5. Список вершин - [7, 6, 1, 9, 10].\n",
      "Кратчайший путь - Mall(id=7, latitude=53.41, longitude=53.4, has_parking=True, shops=58) -> Refill(id=6, latitude=74.11, longitude=74.18, gas_storage=500, gasoline_storage=1000) -> House(id=1, latitude=45.65, longitude=45.73, floors=2, has_gym=True) -> Refill(id=3, latitude=44.11, longitude=44.18, gas_storage=800, gasoline_storage=1200) -> Mall(id=11, latitude=53.41, longitude=53.4, has_parking=True, shops=10). Длинна пути - 5. Список вершин - [7, 6, 1, 3, 11].\n",
      "Кратчайший путь - Garage(id=8, latitude=85.43, longitude=85.82, numbers_of_car=60) -> Mall(id=7, latitude=53.41, longitude=53.4, has_parking=True, shops=58) -> Refill(id=6, latitude=74.11, longitude=74.18, gas_storage=500, gasoline_storage=1000) -> House(id=1, latitude=45.65, longitude=45.73, floors=2, has_gym=True) -> House(id=9, latitude=69.65, longitude=69.21, floors=2, has_gym=False). Длинна пути - 5. Список вершин - [8, 7, 6, 1, 9].\n",
      "Кратчайший путь - Garage(id=8, latitude=85.43, longitude=85.82, numbers_of_car=60) -> Mall(id=7, latitude=53.41, longitude=53.4, has_parking=True, shops=58) -> Refill(id=6, latitude=74.11, longitude=74.18, gas_storage=500, gasoline_storage=1000) -> House(id=1, latitude=45.65, longitude=45.73, floors=2, has_gym=True) -> House(id=9, latitude=69.65, longitude=69.21, floors=2, has_gym=False) -> House(id=10, latitude=69.65, longitude=69.21, floors=1, has_gym=False). Длинна пути - 6. Список вершин - [8, 7, 6, 1, 9, 10].\n",
      "Кратчайший путь - Garage(id=8, latitude=85.43, longitude=85.82, numbers_of_car=60) -> Mall(id=7, latitude=53.41, longitude=53.4, has_parking=True, shops=58) -> Refill(id=6, latitude=74.11, longitude=74.18, gas_storage=500, gasoline_storage=1000) -> House(id=1, latitude=45.65, longitude=45.73, floors=2, has_gym=True) -> Refill(id=3, latitude=44.11, longitude=44.18, gas_storage=800, gasoline_storage=1200) -> Mall(id=11, latitude=53.41, longitude=53.4, has_parking=True, shops=10). Длинна пути - 6. Список вершин - [8, 7, 6, 1, 3, 11].\n",
      "Кратчайший путь - House(id=9, latitude=69.65, longitude=69.21, floors=2, has_gym=False) -> House(id=10, latitude=69.65, longitude=69.21, floors=1, has_gym=False). Длинна пути - 2. Список вершин - [9, 10].\n",
      "Кратчайший путь - House(id=9, latitude=69.65, longitude=69.21, floors=2, has_gym=False) -> House(id=1, latitude=45.65, longitude=45.73, floors=2, has_gym=True) -> Refill(id=3, latitude=44.11, longitude=44.18, gas_storage=800, gasoline_storage=1200) -> Mall(id=11, latitude=53.41, longitude=53.4, has_parking=True, shops=10). Длинна пути - 4. Список вершин - [9, 1, 3, 11].\n",
      "Кратчайший путь - House(id=10, latitude=69.65, longitude=69.21, floors=1, has_gym=False) -> House(id=9, latitude=69.65, longitude=69.21, floors=2, has_gym=False) -> House(id=1, latitude=45.65, longitude=45.73, floors=2, has_gym=True) -> Refill(id=3, latitude=44.11, longitude=44.18, gas_storage=800, gasoline_storage=1200) -> Mall(id=11, latitude=53.41, longitude=53.4, has_parking=True, shops=10). Длинна пути - 5. Список вершин - [10, 9, 1, 3, 11].\n"
     ]
    }
   ],
   "source": [
    "def print_info_about_path(path: List[int]):\n",
    "    \"\"\"\n",
    "        Выводит информацию о пути\n",
    "    :param path: путь\n",
    "    \"\"\"\n",
    "    path_info = \"Кратчайший путь -\"\n",
    "    count = 0\n",
    "    for i in range(len(path)):\n",
    "        count += 1\n",
    "        if count != len(path):\n",
    "            path_info += f\" {objects[path[i]]} ->\"\n",
    "        else:\n",
    "            path_info += f\" {objects[path[i]]}. \"\n",
    "\n",
    "    path_info += f\"Длинна пути - {len(path)}. Список вершин - {path}.\"\n",
    "    print(path_info)\n",
    "\n",
    "\n",
    "for i in range(1, 12):\n",
    "    for j in range(i + 1, 12):\n",
    "        print_info_about_path(nx.shortest_path(g, i, j, weight=\"weight\"))"
   ]
  }
 ],
 "metadata": {
  "colab": {
   "name": "Task_2.ipynb",
   "provenance": []
  },
  "kernelspec": {
   "display_name": "Python 3 (ipykernel)",
   "language": "python",
   "name": "python3"
  },
  "language_info": {
   "codemirror_mode": {
    "name": "ipython",
    "version": 3
   },
   "file_extension": ".py",
   "mimetype": "text/x-python",
   "name": "python",
   "nbconvert_exporter": "python",
   "pygments_lexer": "ipython3",
   "version": "3.9.6"
  }
 },
 "nbformat": 4,
 "nbformat_minor": 1
}
